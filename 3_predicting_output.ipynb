{
 "cells": [
  {
   "cell_type": "markdown",
   "metadata": {},
   "source": [
    "# Aim"
   ]
  },
  {
   "cell_type": "markdown",
   "metadata": {},
   "source": [
    "To tag which customers to market. Tagging done basis 'Response Model' + 'Profit Model' "
   ]
  },
  {
   "cell_type": "code",
   "execution_count": 1,
   "metadata": {},
   "outputs": [],
   "source": [
    "'''Definning path of the project'''\n",
    "path = \"D:/customer_quality_prediction/\""
   ]
  },
  {
   "cell_type": "markdown",
   "metadata": {},
   "source": [
    "## Import Libraries "
   ]
  },
  {
   "cell_type": "code",
   "execution_count": 2,
   "metadata": {},
   "outputs": [],
   "source": [
    "#importing standard packages\n",
    "import os\n",
    "import pandas as pd\n",
    "import pickle\n",
    "import numpy as np\n",
    "import time\n",
    "import seaborn as sns\n",
    "import matplotlib.pyplot as plt\n",
    "\n",
    "os.chdir(path)\n",
    "\n",
    "#importing Functions created for Modeling purpose\n",
    "exec(open(\"modeling_functions.py\").read())\n",
    "\n",
    "import warnings\n",
    "warnings.filterwarnings(\"ignore\")"
   ]
  },
  {
   "cell_type": "markdown",
   "metadata": {},
   "source": [
    "## Loading Data"
   ]
  },
  {
   "cell_type": "code",
   "execution_count": 3,
   "metadata": {},
   "outputs": [
    {
     "data": {
      "text/html": [
       "<div>\n",
       "<style scoped>\n",
       "    .dataframe tbody tr th:only-of-type {\n",
       "        vertical-align: middle;\n",
       "    }\n",
       "\n",
       "    .dataframe tbody tr th {\n",
       "        vertical-align: top;\n",
       "    }\n",
       "\n",
       "    .dataframe thead th {\n",
       "        text-align: right;\n",
       "    }\n",
       "</style>\n",
       "<table border=\"1\" class=\"dataframe\">\n",
       "  <thead>\n",
       "    <tr style=\"text-align: right;\">\n",
       "      <th></th>\n",
       "      <th>custAge</th>\n",
       "      <th>profession</th>\n",
       "      <th>marital</th>\n",
       "      <th>schooling</th>\n",
       "      <th>default</th>\n",
       "      <th>housing</th>\n",
       "      <th>loan</th>\n",
       "      <th>contact</th>\n",
       "      <th>month</th>\n",
       "      <th>day_of_week</th>\n",
       "      <th>...</th>\n",
       "      <th>previous</th>\n",
       "      <th>poutcome</th>\n",
       "      <th>emp.var.rate</th>\n",
       "      <th>cons.price.idx</th>\n",
       "      <th>cons.conf.idx</th>\n",
       "      <th>euribor3m</th>\n",
       "      <th>nr.employed</th>\n",
       "      <th>pmonths</th>\n",
       "      <th>pastEmail</th>\n",
       "      <th>id</th>\n",
       "    </tr>\n",
       "  </thead>\n",
       "  <tbody>\n",
       "    <tr>\n",
       "      <th>0</th>\n",
       "      <td>NaN</td>\n",
       "      <td>admin.</td>\n",
       "      <td>married</td>\n",
       "      <td>NaN</td>\n",
       "      <td>no</td>\n",
       "      <td>no</td>\n",
       "      <td>yes</td>\n",
       "      <td>cellular</td>\n",
       "      <td>sep</td>\n",
       "      <td>wed</td>\n",
       "      <td>...</td>\n",
       "      <td>1</td>\n",
       "      <td>failure</td>\n",
       "      <td>-1.1</td>\n",
       "      <td>94.199</td>\n",
       "      <td>-37.5</td>\n",
       "      <td>0.886</td>\n",
       "      <td>4963.6</td>\n",
       "      <td>999.0</td>\n",
       "      <td>2</td>\n",
       "      <td>1</td>\n",
       "    </tr>\n",
       "    <tr>\n",
       "      <th>1</th>\n",
       "      <td>35.0</td>\n",
       "      <td>services</td>\n",
       "      <td>married</td>\n",
       "      <td>high.school</td>\n",
       "      <td>no</td>\n",
       "      <td>no</td>\n",
       "      <td>no</td>\n",
       "      <td>cellular</td>\n",
       "      <td>sep</td>\n",
       "      <td>tue</td>\n",
       "      <td>...</td>\n",
       "      <td>1</td>\n",
       "      <td>success</td>\n",
       "      <td>-3.4</td>\n",
       "      <td>92.379</td>\n",
       "      <td>-29.8</td>\n",
       "      <td>0.788</td>\n",
       "      <td>5017.5</td>\n",
       "      <td>0.1</td>\n",
       "      <td>2</td>\n",
       "      <td>2</td>\n",
       "    </tr>\n",
       "    <tr>\n",
       "      <th>2</th>\n",
       "      <td>50.0</td>\n",
       "      <td>blue-collar</td>\n",
       "      <td>married</td>\n",
       "      <td>professional.course</td>\n",
       "      <td>unknown</td>\n",
       "      <td>yes</td>\n",
       "      <td>no</td>\n",
       "      <td>cellular</td>\n",
       "      <td>may</td>\n",
       "      <td>thu</td>\n",
       "      <td>...</td>\n",
       "      <td>1</td>\n",
       "      <td>failure</td>\n",
       "      <td>-1.8</td>\n",
       "      <td>92.893</td>\n",
       "      <td>-46.2</td>\n",
       "      <td>1.327</td>\n",
       "      <td>5099.1</td>\n",
       "      <td>999.0</td>\n",
       "      <td>2</td>\n",
       "      <td>3</td>\n",
       "    </tr>\n",
       "    <tr>\n",
       "      <th>3</th>\n",
       "      <td>30.0</td>\n",
       "      <td>admin.</td>\n",
       "      <td>single</td>\n",
       "      <td>university.degree</td>\n",
       "      <td>no</td>\n",
       "      <td>no</td>\n",
       "      <td>no</td>\n",
       "      <td>cellular</td>\n",
       "      <td>aug</td>\n",
       "      <td>wed</td>\n",
       "      <td>...</td>\n",
       "      <td>0</td>\n",
       "      <td>nonexistent</td>\n",
       "      <td>1.4</td>\n",
       "      <td>93.444</td>\n",
       "      <td>-36.1</td>\n",
       "      <td>4.964</td>\n",
       "      <td>5228.1</td>\n",
       "      <td>999.0</td>\n",
       "      <td>0</td>\n",
       "      <td>4</td>\n",
       "    </tr>\n",
       "    <tr>\n",
       "      <th>4</th>\n",
       "      <td>39.0</td>\n",
       "      <td>services</td>\n",
       "      <td>divorced</td>\n",
       "      <td>high.school</td>\n",
       "      <td>no</td>\n",
       "      <td>yes</td>\n",
       "      <td>no</td>\n",
       "      <td>cellular</td>\n",
       "      <td>nov</td>\n",
       "      <td>tue</td>\n",
       "      <td>...</td>\n",
       "      <td>0</td>\n",
       "      <td>nonexistent</td>\n",
       "      <td>-0.1</td>\n",
       "      <td>93.200</td>\n",
       "      <td>-42.0</td>\n",
       "      <td>4.153</td>\n",
       "      <td>5195.8</td>\n",
       "      <td>999.0</td>\n",
       "      <td>0</td>\n",
       "      <td>5</td>\n",
       "    </tr>\n",
       "  </tbody>\n",
       "</table>\n",
       "<p>5 rows × 22 columns</p>\n",
       "</div>"
      ],
      "text/plain": [
       "   custAge   profession   marital            schooling  default housing loan  \\\n",
       "0      NaN       admin.   married                  NaN       no      no  yes   \n",
       "1     35.0     services   married          high.school       no      no   no   \n",
       "2     50.0  blue-collar   married  professional.course  unknown     yes   no   \n",
       "3     30.0       admin.    single    university.degree       no      no   no   \n",
       "4     39.0     services  divorced          high.school       no     yes   no   \n",
       "\n",
       "    contact month day_of_week  ...  previous     poutcome  emp.var.rate  \\\n",
       "0  cellular   sep         wed  ...         1      failure          -1.1   \n",
       "1  cellular   sep         tue  ...         1      success          -3.4   \n",
       "2  cellular   may         thu  ...         1      failure          -1.8   \n",
       "3  cellular   aug         wed  ...         0  nonexistent           1.4   \n",
       "4  cellular   nov         tue  ...         0  nonexistent          -0.1   \n",
       "\n",
       "  cons.price.idx  cons.conf.idx  euribor3m  nr.employed  pmonths  pastEmail  \\\n",
       "0         94.199          -37.5      0.886       4963.6    999.0          2   \n",
       "1         92.379          -29.8      0.788       5017.5      0.1          2   \n",
       "2         92.893          -46.2      1.327       5099.1    999.0          2   \n",
       "3         93.444          -36.1      4.964       5228.1    999.0          0   \n",
       "4         93.200          -42.0      4.153       5195.8    999.0          0   \n",
       "\n",
       "   id  \n",
       "0   1  \n",
       "1   2  \n",
       "2   3  \n",
       "3   4  \n",
       "4   5  \n",
       "\n",
       "[5 rows x 22 columns]"
      ]
     },
     "execution_count": 3,
     "metadata": {},
     "output_type": "execute_result"
    }
   ],
   "source": [
    "data = pd.read_csv(path + 'testingCandidate_csv.csv')\n",
    "\n",
    "data.head()"
   ]
  },
  {
   "cell_type": "markdown",
   "metadata": {},
   "source": [
    "## Tagging Cases"
   ]
  },
  {
   "cell_type": "markdown",
   "metadata": {},
   "source": [
    "In the First step: 'Response Model' is used. customers will be tagged whether they will respond to the insurance offer or not. If the customer is tagged as 'will respond' then they will be sent to second step: 'Profit Model', to know how much prodit will be generated by them."
   ]
  },
  {
   "cell_type": "markdown",
   "metadata": {},
   "source": [
    "#### 1. Response Model"
   ]
  },
  {
   "cell_type": "code",
   "execution_count": 4,
   "metadata": {},
   "outputs": [
    {
     "name": "stdout",
     "output_type": "stream",
     "text": [
      "PSI:0.001\n",
      "Response Rate for 32950 customers in current Batch:\n",
      "++++++++++++++++++++++++++++\n",
      "0    87.817906\n",
      "1    12.182094\n",
      "Name: pred_class, dtype: float64\n"
     ]
    }
   ],
   "source": [
    "#Numeric features in model\n",
    "numeric_features = ['fl_first_time_contact', 'nr.employed']\n",
    "\n",
    "#nominal features in model\n",
    "nominal_features = ['contact', 'month', 'poutcome', 'profession']\n",
    "\n",
    "#Feature Creation\n",
    "data['fl_first_time_contact'] = np.where(data['previous'] > 0, 0, 1)\n",
    "\n",
    "#keeping only relevant features\n",
    "data = data[['id'] + numeric_features + nominal_features]\n",
    "\n",
    "\n",
    "'''Binning Numeric Variables'''\n",
    "\n",
    "#loading bucket threshold\n",
    "with open(path + 'pickle_response_model/thold_dict.p', 'rb') as f:\n",
    "    dict_thold = pickle.load(f)\n",
    "\n",
    "#Binning the variables using pickled threshold\n",
    "data_binned = data.copy()\n",
    "for feature in numeric_features:\n",
    "    if feature != 'fl_first_time_contact':  #this feature was not binned\n",
    "        thold = dict_thold[feature][1:-1]\n",
    "        #print(feature + \": \"+ str(thold))\n",
    "        new_values = []\n",
    "        for value in data[feature]:\n",
    "            flag = 0\n",
    "            for i in range(len(thold)):\n",
    "                if(value < thold[i]):\n",
    "                    new_values.append(i)\n",
    "                    flag = 1\n",
    "                    break\n",
    "            if(flag == 0):\n",
    "                new_values.append(len(thold))\n",
    "        data_binned[feature] = new_values\n",
    "\n",
    "\n",
    "'''\n",
    "Below snippet is useful when a feature in a test set has an additional category which was never faced in train set, \n",
    "hence removing it after one_hot_encoding. To make sure whatever category where there in train are present in test,\n",
    "we append test_ohe to structure of train_ohe dataframe and impute missing value with zero.\n",
    "'''\n",
    "\n",
    "#getting final one hot encoded features from model\n",
    "with open(path + \"pickle_response_model/final_features.p\", \"rb\") as f:\n",
    "    final_model_features = pickle.load(f)\n",
    "    \n",
    "final_model_features.append('id')\n",
    "\n",
    "#creating an empty dataframe which will have one hot encoded data, of similar structure from training time.\n",
    "data_ohe = pd.DataFrame(columns = final_model_features)\n",
    "\n",
    "#one hot encoding nominal features of testing data.\n",
    "data_ohe_temp = pd.get_dummies(data_binned, columns = nominal_features)\n",
    "\n",
    "#identifying and removing columns which are created for unseen category during training time. \n",
    "unnecessary_col = []\n",
    "for feature in data_ohe_temp.columns:\n",
    "    if feature not in final_model_features:\n",
    "        unnecessary_col.append(feature)\n",
    "        \n",
    "data_ohe_temp.drop(columns = unnecessary_col, inplace = True)\n",
    "\n",
    "#appending test one hot encoded data to above empty dataframe having training data structure.\n",
    "data_ohe = data_ohe.append(data_ohe_temp)\n",
    "\n",
    "#if some category was present in train data but not in test, then Null would appear after above step\n",
    "#hence replacing null with zero\n",
    "data_ohe.fillna(value = 0, inplace = True)\n",
    "\n",
    "\n",
    "'''getting Model output'''\n",
    "\n",
    "with open(path + \"pickle_response_model/log_reg_final.p\", \"rb\") as f:\n",
    "    log_reg_final = pickle.load(f)\n",
    "\n",
    "#getting prediction\n",
    "prediction = data_ohe[['id']]    \n",
    "prediction['probability_class_1'] = log_reg_final.predict_proba(data_ohe.drop(columns = ['id']))[:,1]\n",
    "prediction['pred_class'] = np.where(prediction['probability_class_1'] > 0.22, 1, 0)  #1 means will respond.\n",
    "\n",
    "prediction_test = pd.read_pickle(path + \"pickle_response_model/prediction_test.p\")\n",
    "\n",
    "'''PSI'''\n",
    "#Comparing current Probability distribution with Testing Probability distribution\n",
    "psi = calculate_psi_continuous(expected = prediction_test['probability_class_1'], actual = prediction['probability_class_1'])\n",
    "\n",
    "print(\"PSI:\" + str(round(psi,5)))\n",
    "\n",
    "print(\"Response Rate for {} customers in current Batch:\\n++++++++++++++++++++++++++++\".format(len(prediction)))\n",
    "print(prediction['pred_class'].value_counts() * 100/ len(prediction))"
   ]
  },
  {
   "cell_type": "markdown",
   "metadata": {},
   "source": [
    "As PSI is 0.001 (i.e. < 0.1), we can be assured that there is no concept drift or data drift and this model is holding true for this batch.\n",
    "\n",
    "Also,12% of 32,950 = 4,013 customers, may respond to the offer. "
   ]
  },
  {
   "cell_type": "markdown",
   "metadata": {},
   "source": [
    "#### 2. Profit Model"
   ]
  },
  {
   "cell_type": "markdown",
   "metadata": {},
   "source": [
    "In this step, only generating profit for the customer for whom we think will repond as per the 'Response Model'. "
   ]
  },
  {
   "cell_type": "code",
   "execution_count": 5,
   "metadata": {},
   "outputs": [
    {
     "name": "stdout",
     "output_type": "stream",
     "text": [
      "PSI:0.12586\n"
     ]
    }
   ],
   "source": [
    "#customers who would respond\n",
    "reponding_id = prediction[(prediction['pred_class'] == 1)][['id']] \n",
    "\n",
    "#loading data:\n",
    "data = pd.read_csv(path + 'testingCandidate_csv.csv')\n",
    "\n",
    "#pickling only customers who would respond from main data:\n",
    "data = data.merge(reponding_id, on = 'id').reset_index(drop = True)\n",
    "\n",
    "#nominal features in model\n",
    "nominal_features = ['default', 'loan', 'marital', 'profession', 'schooling']\n",
    "\n",
    "'''Null Imputation'''\n",
    "data['schooling'] = np.where(data['schooling'].isna(), 'unknown', data['schooling'])\n",
    "\n",
    "#keeping only relevant features\n",
    "data = data[['id'] + nominal_features]\n",
    "\n",
    "'''\n",
    "Below snippet is useful when a feature in a test set has an additional category which was never faced in train set, \n",
    "hence removing it after one_hot_encoding. To make sure whatever category where there in train are present in test,\n",
    "we append test_ohe to structure of train_ohe dataframe and impute missing value with zero.\n",
    "'''\n",
    "\n",
    "#getting final one hot encoded features from model\n",
    "with open(path + \"pickle_profit/final_features.p\", \"rb\") as f:\n",
    "    final_model_features = pickle.load(f)\n",
    "    \n",
    "final_model_features.append('id') \n",
    "\n",
    "#creating an empty dataframe which will have one hot encoded data, of similar structure from training time.\n",
    "data_ohe = pd.DataFrame(columns = final_model_features)\n",
    "\n",
    "#one hot encoding nominal features of testing data.\n",
    "data_ohe_temp = pd.get_dummies(data, columns = nominal_features)\n",
    "\n",
    "#identifying and removing columns which are created for unseen category during training time. \n",
    "unnecessary_col = []\n",
    "for feature in data_ohe_temp.columns:\n",
    "    if feature not in final_model_features:\n",
    "        unnecessary_col.append(feature)\n",
    "        \n",
    "data_ohe_temp.drop(columns = unnecessary_col, inplace = True)\n",
    "\n",
    "#appending test one hot encoded data to above empty dataframe having training data structure.\n",
    "data_ohe = data_ohe.append(data_ohe_temp)\n",
    "\n",
    "#if some category was present in train data but not in test, then Null would appear after above step\n",
    "#hence replacing null with zero\n",
    "data_ohe.fillna(value = 0, inplace = True)\n",
    "\n",
    "'''getting Model output and performance for Test set'''\n",
    "\n",
    "with open(path + \"pickle_profit/lasso_final.p\", \"rb\") as f:\n",
    "    lasso_final = pickle.load(f)\n",
    "\n",
    "#getting prediction\n",
    "X_test = data_ohe.drop(columns = ['id'])\n",
    "\n",
    "prediction = data_ohe[['id']]    \n",
    "prediction['pred_profit'] = lasso_final.predict(X_test)\n",
    "\n",
    "\n",
    "#getting prediction dataframe for PSI comparison from test time:\n",
    "prediction_test = pd.read_pickle(path + \"pickle_profit/prediction_train.p\")\n",
    "\n",
    "'''PSI'''\n",
    "#Comparing current Probability distribution with Testing Probability distribution\n",
    "psi = calculate_psi_continuous(expected = prediction_test['pred_profit'], actual = prediction['pred_profit'])\n",
    "\n",
    "print(\"PSI:\" + str(round(psi,5)))"
   ]
  },
  {
   "cell_type": "markdown",
   "metadata": {},
   "source": [
    "the above PSI is 0.125 (i.e. > 0.1, meaning distribution of the model ouptut has changed slightly), but to confirm let's check their actual overlap."
   ]
  },
  {
   "cell_type": "code",
   "execution_count": 6,
   "metadata": {},
   "outputs": [
    {
     "data": {
      "image/png": "[encoded data removed]",
      "text/plain": [
       "<Figure size 432x288 with 1 Axes>"
      ]
     },
     "metadata": {
      "needs_background": "light"
     },
     "output_type": "display_data"
    },
    {
     "data": {
      "text/plain": [
       "<Figure size 432x288 with 0 Axes>"
      ]
     },
     "metadata": {},
     "output_type": "display_data"
    }
   ],
   "source": [
    "'''plotting overlap of Testing time Predicted Profit with current batch predicted profit'''\n",
    "\n",
    "p1 = sns.kdeplot(prediction['pred_profit'], shade=True, color=\"r\", label = 'Recent')\n",
    "p2 = sns.kdeplot(prediction_test['pred_profit'], shade=True, color=\"b\", label = 'Testing')\n",
    "plt.legend(loc='upper left')\n",
    "plt.show()\n",
    "plt.clf()"
   ]
  },
  {
   "cell_type": "markdown",
   "metadata": {},
   "source": [
    "The above overlap seems good enough. There seems no concept drift by looking at distributions, could be because of higher cases in the Recent Batch."
   ]
  },
  {
   "cell_type": "markdown",
   "metadata": {},
   "source": [
    "#### 3. profit_customers_who_would_respond"
   ]
  },
  {
   "cell_type": "markdown",
   "metadata": {},
   "source": [
    "To optimize the profit during the campain, we can shortlist customers whose Model predicted atleast 106 profit. Because, we saw that ~96% of customers whose profit is predicted falls in the range of 95% Prediction interval. i.e. Even if a person's profit is predicted as 106 (actual profit is 1) we will be on safer side."
   ]
  },
  {
   "cell_type": "code",
   "execution_count": 11,
   "metadata": {},
   "outputs": [],
   "source": [
    "data = pd.read_csv(path + \"testingCandidate_csv.csv\")"
   ]
  },
  {
   "cell_type": "code",
   "execution_count": 12,
   "metadata": {},
   "outputs": [
    {
     "name": "stdout",
     "output_type": "stream",
     "text": [
      "outof 32950 customers in current Batch:\n",
      "++++++++++++++++++++++++++++\n",
      "0    88.786039\n",
      "1    11.213961\n",
      "Name: should_market, dtype: float64\n"
     ]
    }
   ],
   "source": [
    "#customers with predicted profit >= 106\n",
    "profit_customers_who_will_respond = prediction[prediction['pred_profit'] > 106][['id']]\n",
    "profit_customers_who_will_respond['should_market'] = 1\n",
    "\n",
    "#merging with given data\n",
    "data = data.merge(profit_customers_who_will_respond, \n",
    "                 on = 'id',\n",
    "                 how = 'left')\n",
    "\n",
    "data['should_market'] = np.where(data['should_market'].isna(), 0, 1)\n",
    "\n",
    "print(\"outof {} customers in current Batch:\\n++++++++++++++++++++++++++++\".format(len(data)))\n",
    "print(data['should_market'].value_counts() * 100 / len(data))"
   ]
  },
  {
   "cell_type": "markdown",
   "metadata": {},
   "source": [
    "11% customers should be marketed"
   ]
  },
  {
   "cell_type": "code",
   "execution_count": 14,
   "metadata": {},
   "outputs": [],
   "source": [
    "'''the output file'''\n",
    "\n",
    "'''Output columns: should_market'''\n",
    "\n",
    "data.to_csv(path + \"testingCandidate_with_output.csv\", index = False)"
   ]
  }
 ],
 "metadata": {
  "kernelspec": {
   "display_name": "Python 3",
   "language": "python",
   "name": "python3"
  },
  "language_info": {
   "codemirror_mode": {
    "name": "ipython",
    "version": 3
   },
   "file_extension": ".py",
   "mimetype": "text/x-python",
   "name": "python",
   "nbconvert_exporter": "python",
   "pygments_lexer": "ipython3",
   "version": "3.6.5"
  }
 },
 "nbformat": 4,
 "nbformat_minor": 4
}
